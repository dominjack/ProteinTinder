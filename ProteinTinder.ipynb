{
 "cells": [
  {
   "cell_type": "code",
   "execution_count": null,
   "metadata": {},
   "outputs": [],
   "source": [
    "\"\"\"\n",
    "Load pdbs into code\n",
    "Align switch on off state\n",
    "Display with clicker\n",
    "\"\"\"\n",
    "\n",
    "import time, sys\n",
    "from IPython.display import clear_output\n",
    "\n",
    "def update_progress(progress):\n",
    "    bar_length = 50\n",
    "    if isinstance(progress, int):\n",
    "        progress = float(progress)\n",
    "    if not isinstance(progress, float):\n",
    "        progress = 0\n",
    "    if progress < 0:\n",
    "        progress = 0\n",
    "    if progress >= 1:\n",
    "        progress = 1\n",
    "\n",
    "    block = int(round(bar_length * progress))\n",
    "    clear_output(wait = True)\n",
    "    text = \"Progress: [{0}] {1:.1f}%\".format( \"#\" * block + \"-\" * (bar_length - block), progress * 100)\n",
    "    print(text)"
   ]
  },
  {
   "attachments": {},
   "cell_type": "markdown",
   "metadata": {},
   "source": [
    "***Import dependencies***"
   ]
  },
  {
   "cell_type": "code",
   "execution_count": null,
   "metadata": {},
   "outputs": [],
   "source": [
    "import py3Dmol as p3d\n",
    "import shutil\n",
    "import time\n",
    "import numpy as np\n",
    "import os\n",
    "from itertools import chain\n",
    "from glob import glob\n",
    "import Bio.PDB as bpdb"
   ]
  },
  {
   "attachments": {},
   "cell_type": "markdown",
   "metadata": {},
   "source": [
    "***Load pdbs***"
   ]
  },
  {
   "cell_type": "code",
   "execution_count": null,
   "metadata": {},
   "outputs": [],
   "source": [
    "directory = \"2023-05-01_Switch\"\n",
    "switchIdent = \"_SWITCH\"\n",
    "outdir = \"CenterAligned\"\n",
    "finaldir = \"out\"\n",
    "\n",
    "def enumDir(directory):\n",
    "    files = list((chain.from_iterable(glob(os.path.join(x[0], '*.pdb')) for x in os.walk(directory))))\n",
    "    print(files)\n",
    "\n",
    "    \"\"\"\n",
    "    switched file must be original file name with the addition of switchIdent anywhere in the filename\n",
    "    \"\"\"\n",
    "\n",
    "    switchedStates = list(filter(lambda x: switchIdent in x.split(\"\\\\\")[-1], files))\n",
    "    relaxedState = list(filter(lambda x: switchIdent not in x.split(\"\\\\\")[-1], files))\n",
    "\n",
    "    proteins = {}\n",
    "\n",
    "    for rel in relaxedState: \n",
    "        namePdb = rel.split(\"\\\\\")[-1]\n",
    "        correspondingSwitch = list(filter(lambda x: namePdb in x.replace(switchIdent, \"\"), switchedStates))\n",
    "        assert len(correspondingSwitch) == 1\n",
    "        protein = {\"relaxed\":{\"path\":rel}, \"switched\":{\"path\":correspondingSwitch[0]}}\n",
    "        proteins[namePdb.replace(\".pdb\", \"\")] = protein\n",
    "    return proteins\n",
    "\n",
    "protiens = enumDir(directory=directory)"
   ]
  },
  {
   "attachments": {},
   "cell_type": "markdown",
   "metadata": {},
   "source": [
    "***Align Switches***"
   ]
  },
  {
   "cell_type": "code",
   "execution_count": null,
   "metadata": {},
   "outputs": [],
   "source": [
    "\"\"\"Alignement mehtods\"\"\"\n",
    "\n",
    "def getAlignementAtoms(model, alignedModel, residueLength):\n",
    "    ref_atoms = []\n",
    "    sample_atoms = []\n",
    "    atoms_to_be_aligned = range(10, residueLength + 1)\n",
    "    \n",
    "    ref_model = alignedModel\n",
    "    for ref_chain in [ref_model[\"A\"]]:\n",
    "        for ref_res in ref_chain:\n",
    "          if ref_res.get_id()[1] in atoms_to_be_aligned:\n",
    "            ref_atoms.append(ref_res['CA'])\n",
    "\n",
    "    sample_model = model\n",
    "    for sample_chain in [sample_model[\"A\"]]:\n",
    "      for sample_res in sample_chain:\n",
    "        if sample_res.get_id()[1] in atoms_to_be_aligned:\n",
    "          sample_atoms.append(sample_res['CA'])\n",
    "    assert len(sample_atoms) == len(ref_atoms)\n",
    "    return sample_atoms, ref_atoms\n",
    "\n",
    "def alignFirstResidues(pdb, alignedPdb, residueLength):\n",
    "    parserAligned = bpdb.PDBParser(QUIET=True)\n",
    "    parser = bpdb.PDBParser(QUIET=True)\n",
    "    modelAligned = parserAligned.get_structure(\"aligned\",alignedPdb)[0]\n",
    "    model = parser.get_structure(\"toalign\", pdb)[0]\n",
    "    sample_atoms, ref_atoms = getAlignementAtoms(model=model, alignedModel=modelAligned, residueLength=residueLength)\n",
    "    superImposer = bpdb.Superimposer()\n",
    "    superImposer.set_atoms(ref_atoms, sample_atoms)\n",
    "    #print(list(model.get_atoms()))\n",
    "    superImposer.apply(model.get_atoms())\n",
    "    \n",
    "    com = modelAligned[\"A\"].center_of_mass()\n",
    "    modelAligned.transform(np.eye(3), -com)\n",
    "    model.transform(np.eye(3), -com)\n",
    "    return model.get_parent(), modelAligned.get_parent()"
   ]
  },
  {
   "cell_type": "code",
   "execution_count": null,
   "metadata": {},
   "outputs": [],
   "source": [
    "io=bpdb.PDBIO()\n",
    "for n, (k, v) in enumerate(proteins.items()):\n",
    "    update_progress(n / len(proteins.keys()))\n",
    "    switchedPdb = v[\"switched\"][\"path\"]\n",
    "    relaxedPdb = v[\"relaxed\"][\"path\"]\n",
    "    switchedStructure, relaxedStructure = alignFirstResidues(switchedPdb, relaxedPdb, 75)\n",
    "    switchedModel = switchedStructure[0]\n",
    "    for chain in switchedModel:\n",
    "        chain.id = \"C\"\n",
    "    io.set_structure(switchedStructure)\n",
    "    io.save(f\"{outdir}\\\\{k.replace('_', '_SWITCH_')}.pdb\")\n",
    "    io.set_structure(relaxedStructure)\n",
    "    io.save(f\"{outdir}\\\\{k}.pdb\")\n",
    "update_progress(1)"
   ]
  },
  {
   "attachments": {},
   "cell_type": "markdown",
   "metadata": {},
   "source": [
    "***Display***"
   ]
  },
  {
   "cell_type": "code",
   "execution_count": null,
   "metadata": {},
   "outputs": [],
   "source": [
    "cAProteins = enumDir(outdir)\n",
    "\n",
    "valid = {}\n",
    "\n",
    "for n, (k,v) in enumerate(cAProteins.items()):\n",
    "    with open(v[\"switched\"][\"path\"], \"r\") as f:\n",
    "     contentsS = f.read()\n",
    "\n",
    "    with open(v[\"relaxed\"][\"path\"], \"r\") as f:\n",
    "     contentsR = f.read()\n",
    "\n",
    "    #view = p3d.view(query=contents,viewergrid=(2,2),style=[[{'stick':{}},{'cartoon':{'arrows':True, 'tubes':True, 'style':'oval', 'color':'white'}}],\n",
    "     #                                                          [{'stick':{'colorscheme':'greenCarbon'}},{'cartoon':{'color':'spectrum'}}]])\n",
    "    #view.show()\n",
    "    view = p3d.view(height=400, width=1200, viewergrid=(1,3))\n",
    "    clear_output(wait = False)\n",
    "    view.addModel(contentsS,'pdb', viewer=(0,0))\n",
    "    #view.setStyle({'cartoon': {'color':'blue'}})\n",
    "    view.addModel(contentsR,'pdb', viewer=(0,1))\n",
    "\n",
    "    view.addModel(contentsS,'pdb', viewer=(0,2))\n",
    "    #view.setStyle({'cartoon': {'color':'blue'}})\n",
    "    view.addModel(contentsR,'pdb', viewer=(0,2))\n",
    "    view.setStyle({'cartoon': {'colorscheme':'chainHetatm'}})\n",
    "    view.setStyle({'chain':\"A\"},{'cartoon': {'color':\"red\"}})\n",
    "    view.setStyle({'chain':\"B\"},{'cartoon': {'color':\"yellow\"}})\n",
    "    view.setStyle({'chain':\"C\"},{'cartoon': {'color':\"blue\"}})\n",
    "    view.zoomTo()\n",
    "    view.show()\n",
    "    time.sleep(1)\n",
    "    inp = input(\"yay(y) or nay(n)?\")\n",
    "    if inp == \"y\" or inp == \"yay\":\n",
    "        valid[k] = v\n",
    "    time.sleep(.5)\n",
    "    del view\n",
    "    time.sleep(.5)\n",
    "    \n"
   ]
  },
  {
   "cell_type": "code",
   "execution_count": null,
   "metadata": {},
   "outputs": [],
   "source": [
    "print(valid)\n",
    "for n, (k, v) in enumerate(valid.items()):\n",
    "    update_progress(n/len(valid.keys()))\n",
    "    os.makedirs(os.path.dirname(f'{finaldir}\\\\{v[\"switched\"][\"path\"]}'), exist_ok=True)\n",
    "    shutil.copyfile(v[\"switched\"][\"path\"], f'{finaldir}\\\\{v[\"switched\"][\"path\"]}')\n",
    "    shutil.copyfile(v[\"relaxed\"][\"path\"], f'{finaldir}\\\\{v[\"relaxed\"][\"path\"]}')\n",
    "update_progress(1)"
   ]
  },
  {
   "cell_type": "code",
   "execution_count": null,
   "metadata": {},
   "outputs": [],
   "source": []
  }
 ],
 "metadata": {
  "kernelspec": {
   "display_name": "bio",
   "language": "python",
   "name": "python3"
  },
  "language_info": {
   "codemirror_mode": {
    "name": "ipython",
    "version": 3
   },
   "file_extension": ".py",
   "mimetype": "text/x-python",
   "name": "python",
   "nbconvert_exporter": "python",
   "pygments_lexer": "ipython3",
   "version": "3.10.8"
  },
  "orig_nbformat": 4
 },
 "nbformat": 4,
 "nbformat_minor": 2
}
